{
 "cells": [
  {
   "cell_type": "code",
   "execution_count": null,
   "metadata": {},
   "outputs": [],
   "source": [
    "import pandas as pd\n",
    "audata = pd.read_csv(\"RESULT/cu/cu_final.csv\", index_col=[0], parse_dates=[0])\n",
    "audata"
   ]
  },
  {
   "cell_type": "code",
   "execution_count": null,
   "metadata": {},
   "outputs": [],
   "source": [
    "audata.id_A.unique()"
   ]
  },
  {
   "cell_type": "code",
   "execution_count": null,
   "metadata": {},
   "outputs": [],
   "source": [
    "data = audata[audata.id_A == 'cu2103'][['last_A', 'last_B']]\n",
    "data"
   ]
  },
  {
   "cell_type": "markdown",
   "metadata": {},
   "source": [
    "#### 相关性检验 "
   ]
  },
  {
   "cell_type": "code",
   "execution_count": null,
   "metadata": {},
   "outputs": [],
   "source": [
    "import numpy as np\n",
    "from scipy import stats\n",
    "correlation, pvalue = stats.spearmanr(data.last_A, data.last_B)\n",
    "print(\"coef:\", round(correlation, 3), \",p-value:\", pvalue)\n",
    "print(\"------\")\n",
    "correlation, pvalue = stats.spearmanr(np.diff(data.last_A) / data.last_A.shift()[1:], np.diff(data.last_B)/data.last_B.shift()[1:])\n",
    "print(\"coef:\", round(correlation, 3), \",p-value:\", pvalue)\n"
   ]
  },
  {
   "cell_type": "markdown",
   "metadata": {},
   "source": [
    "#### ADF检验 "
   ]
  },
  {
   "cell_type": "code",
   "execution_count": null,
   "metadata": {},
   "outputs": [],
   "source": [
    "import statsmodels.tsa.stattools as ts\n",
    "adf1 = ts.adfuller(np.diff(data.last_A))\n",
    "adf2 = ts.adfuller(np.diff(data.last_B))\n",
    "print(adf1)\n",
    "print(adf2)"
   ]
  },
  {
   "cell_type": "code",
   "execution_count": null,
   "metadata": {},
   "outputs": [],
   "source": [
    "adf3 = ts.adfuller(data.last_A)\n",
    "adf4 = ts.adfuller(data.last_B)\n",
    "print(adf3)\n",
    "print(adf4)"
   ]
  },
  {
   "cell_type": "markdown",
   "metadata": {},
   "source": [
    "#### OLS回归"
   ]
  },
  {
   "cell_type": "code",
   "execution_count": null,
   "metadata": {},
   "outputs": [],
   "source": [
    "import statsmodels.api as sm\n",
    "model = sm.OLS(data.last_A, data.last_B).fit()\n",
    "print(model.params)\n",
    "beta = model.params['last_B']"
   ]
  },
  {
   "cell_type": "markdown",
   "metadata": {},
   "source": [
    "#### 残差单位根检验"
   ]
  },
  {
   "cell_type": "code",
   "execution_count": null,
   "metadata": {},
   "outputs": [],
   "source": [
    "eps = data.last_A - data.last_B * beta\n",
    "print(ts.adfuller(eps))"
   ]
  },
  {
   "cell_type": "code",
   "execution_count": null,
   "metadata": {},
   "outputs": [],
   "source": [
    "import matplotlib.pyplot as plt\n",
    "plt.figure()\n",
    "plt.plot([i for i in range(len(eps))], eps.values)\n",
    "plt.show()"
   ]
  },
  {
   "cell_type": "markdown",
   "metadata": {},
   "source": [
    "#### 序列去中心化 "
   ]
  },
  {
   "cell_type": "code",
   "execution_count": null,
   "metadata": {},
   "outputs": [],
   "source": [
    "Spread = data.last_A - data.last_B"
   ]
  },
  {
   "cell_type": "code",
   "execution_count": null,
   "metadata": {},
   "outputs": [],
   "source": [
    "plt.figure(figsize=(20,8))\n",
    "plt.plot([i for i in range(len(eps))], eps.values)\n",
    "plt.plot([i for i in range(len(Spread))], Spread)\n",
    "plt.show()"
   ]
  },
  {
   "cell_type": "code",
   "execution_count": null,
   "metadata": {},
   "outputs": [],
   "source": [
    "MSpread = Spread  - (Spread).mean()\n",
    "MSpread"
   ]
  },
  {
   "cell_type": "markdown",
   "metadata": {},
   "source": [
    "#### 样本内回测\n"
   ]
  },
  {
   "cell_type": "code",
   "execution_count": null,
   "metadata": {},
   "outputs": [],
   "source": [
    "holding = False\n",
    "direction = None  # \"a-b\", \"b-a\"\n",
    "enter_record = []\n",
    "out_record = []\n",
    "\n",
    "pure_pnl = []\n",
    "trading_cost = []\n",
    "pnl = []\n",
    "cost_rate = 0.5 / 10000\n",
    "\n",
    "\n",
    "K = 0.31\n",
    "\n",
    "up_threshold =  K * np.std(MSpread)\n",
    "down_threshold = - up_threshold\n",
    "print(up_threshold, down_threshold)\n",
    "\n",
    "for i, v in enumerate(MSpread.values):\n",
    "    if not holding:\n",
    "        # 判断进场条件\n",
    "        if v > up_threshold:\n",
    "            holding = True\n",
    "            direction = 'b-a'\n",
    "            print('b-a进场', i, v)\n",
    "            enter_record.append((i, v))\n",
    "        elif v < down_threshold:\n",
    "            holding = True\n",
    "            direction = 'a-b'\n",
    "            print('a-b进场', i, v)\n",
    "            enter_record.append((i, v))\n",
    "            \n",
    "    elif holding:\n",
    "        # 判断离场条件\n",
    "        if direction == 'a-b' and v > 0.1:\n",
    "            holding = False\n",
    "            print('a-b出场', i, v)\n",
    "            out_record.append((i, v))\n",
    "            \n",
    "            out_price = v\n",
    "            last_enter_price = enter_record[-1][1]\n",
    "            single_ret = (out_price - last_enter_price)\n",
    "            single_cost = cost_rate * (data.last_A[i] + data.last_B[i] + \n",
    "                                         data.last_A[enter_record[-1][0]] + data.last_B[enter_record[-1][0]])\n",
    "\n",
    "            pure_pnl.append(single_ret)\n",
    "            trading_cost.append(single_cost)\n",
    "            pnl.append(single_ret - single_cost)\n",
    "            \n",
    "            \n",
    "        elif direction =='b-a' and v < -0.1:\n",
    "            holding = False\n",
    "            print('b-a出场', i, v)\n",
    "            out_record.append((i, v))\n",
    "            single_ret = (enter_record[-1][1] - v)\n",
    "            single_cost = cost_rate * (data.last_A[i] + data.last_B[i] + \n",
    "                                         data.last_A[enter_record[-1][0]] + data.last_B[enter_record[-1][0]])            \n",
    "            \n",
    "            pure_pnl.append(single_ret)\n",
    "            trading_cost.append(single_cost)\n",
    "            pnl.append(single_ret - single_cost)\n",
    "            \n",
    "if holding:\n",
    "    print('还有持仓，强平')\n",
    "    ret = (MSpread[-1] - enter_record[-1][1])\n",
    "    trading_cost = cost_rate * (data.last_A[-1] + data.last_B[-1] + \n",
    "                                         data.last_A[enter_record[-1][0]] + data.last_B[enter_record[-1][0]])\n",
    "    pure_pnl += ret\n",
    "    pnl += ret - trading_cost\n",
    "    "
   ]
  },
  {
   "cell_type": "code",
   "execution_count": null,
   "metadata": {},
   "outputs": [],
   "source": [
    "# plt.figure(figsize=(20,8))\n",
    "# plt.plot([i for i in range(len(Spread))], MSpread)\n",
    "# plt.scatter(np.array(enter_record)[:, 0], np.array(enter_record)[:, 1], color = 'r')\n",
    "# plt.scatter(np.array(out_record)[:, 0], np.array(out_record)[:, 1], color = 'b')"
   ]
  },
  {
   "cell_type": "code",
   "execution_count": null,
   "metadata": {},
   "outputs": [],
   "source": [
    "plt.figure(figsize=(10,6))\n",
    "plt.plot(np.array(pnl).cumsum(), label='pnl')\n",
    "plt.plot(np.array(pure_pnl).cumsum(), label='pure_pnl')\n",
    "plt.plot(np.array(trading_cost).cumsum(), label='trading_cost')\n",
    "plt.legend()"
   ]
  },
  {
   "cell_type": "markdown",
   "metadata": {},
   "source": [
    "#### 最佳参数 "
   ]
  },
  {
   "cell_type": "code",
   "execution_count": null,
   "metadata": {},
   "outputs": [],
   "source": [
    "cost_rate = 0.5 / 10000\n",
    "best_K = None\n",
    "best_K_res = None\n",
    "\n",
    "\n",
    "K_options = np.arange(0.01, 2.5, 0.01)\n",
    "\n",
    "for K in K_options:\n",
    "    \n",
    "    holding = False\n",
    "    direction = None  # \"a-b\", \"b-a\"\n",
    "    enter_record = []\n",
    "    out_record = []\n",
    "\n",
    "    pure_pnl = []\n",
    "    trading_cost = []\n",
    "    pnl = []\n",
    "    \n",
    "    up_threshold =  K * np.std(MSpread)\n",
    "    down_threshold = - up_threshold\n",
    "    \n",
    "    for i, v in enumerate(MSpread):\n",
    "        if not holding:\n",
    "            # 判断进场条件\n",
    "            if v > up_threshold:\n",
    "                holding = True\n",
    "                direction = 'b-a'\n",
    "                enter_record.append((i, v))\n",
    "            elif v < down_threshold:\n",
    "                holding = True\n",
    "                direction = 'a-b'\n",
    "                enter_record.append((i, v))\n",
    "\n",
    "        elif holding:\n",
    "            # 判断离场条件\n",
    "            if direction == 'a-b' and v > 0.1:\n",
    "                holding = False\n",
    "                out_record.append((i, v))\n",
    "\n",
    "                out_price = v\n",
    "                last_enter_price = enter_record[-1][1]\n",
    "                single_ret = (out_price - last_enter_price)\n",
    "                single_cost = cost_rate * (data.last_A[i] + data.last_B[i] + \n",
    "                                             data.last_A[enter_record[-1][0]] + data.last_B[enter_record[-1][0]])\n",
    "\n",
    "                pure_pnl.append(single_ret)\n",
    "                trading_cost.append(single_cost)\n",
    "                pnl.append(single_ret - single_cost)\n",
    "\n",
    "\n",
    "            elif direction =='b-a' and v < -0.1:\n",
    "                holding = False\n",
    "                out_record.append((i, v))\n",
    "                single_ret = (enter_record[-1][1] - v)\n",
    "                single_cost = cost_rate * (data.last_A[i] + data.last_B[i] + \n",
    "                                             data.last_A[enter_record[-1][0]] + data.last_B[enter_record[-1][0]])            \n",
    "\n",
    "                pure_pnl.append(single_ret)\n",
    "                trading_cost.append(single_cost)\n",
    "                pnl.append(single_ret - single_cost)\n",
    "\n",
    "                \n",
    "    if holding:\n",
    "        print('还有持仓，强平')\n",
    "        ret = (MSpread[-1] - enter_record[-1][1])\n",
    "        trading_cost = cost_rate * (data.last_A[-1] + data.last_B[-1] + \n",
    "                                             data.last_A[enter_record[-1][0]] + data.last_B[enter_record[-1][0]])\n",
    "        pure_pnl += ret\n",
    "        pnl += ret - trading_cost\n",
    "        \n",
    "    final_pnl = np.array(pnl).cumsum()[-1]\n",
    "    if best_K_res is None:\n",
    "        best_K_res = final_pnl\n",
    "        K_res = K\n",
    "        \n",
    "    elif final_pnl > best_K_res:\n",
    "        best_K_res = final_pnl\n",
    "        k_res = K"
   ]
  },
  {
   "cell_type": "code",
   "execution_count": null,
   "metadata": {},
   "outputs": [],
   "source": [
    "k_res\n",
    "best_K_res"
   ]
  },
  {
   "cell_type": "code",
   "execution_count": null,
   "metadata": {},
   "outputs": [],
   "source": [
    "print(\"收益率：\")\n",
    "best_K_res / (2 * 9/100 * 70000)"
   ]
  },
  {
   "cell_type": "code",
   "execution_count": null,
   "metadata": {},
   "outputs": [],
   "source": []
  }
 ],
 "metadata": {
  "kernelspec": {
   "name": "python374jvsc74a57bd0b3ba2566441a7c06988d0923437866b63cedc61552a5af99d1f4fb67d367b25f",
   "display_name": "Python 3.7.4 64-bit ('base': conda)"
  },
  "language_info": {
   "codemirror_mode": {
    "name": "ipython",
    "version": 3
   },
   "file_extension": ".py",
   "mimetype": "text/x-python",
   "name": "python",
   "nbconvert_exporter": "python",
   "pygments_lexer": "ipython3",
   "version": "3.7.4"
  }
 },
 "nbformat": 4,
 "nbformat_minor": 2
}